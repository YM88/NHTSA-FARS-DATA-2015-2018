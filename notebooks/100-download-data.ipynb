{
 "cells": [
  {
   "cell_type": "code",
   "execution_count": 1,
   "metadata": {
    "ExecuteTime": {
     "end_time": "2019-11-04T15:21:07.572651Z",
     "start_time": "2019-11-04T15:21:07.564672Z"
    }
   },
   "outputs": [],
   "source": [
    "import os\n",
    "import time\n",
    "import zipfile\n",
    "\n",
    "from ftplib import FTP"
   ]
  },
  {
   "cell_type": "code",
   "execution_count": 2,
   "metadata": {
    "ExecuteTime": {
     "end_time": "2019-11-04T15:28:11.723745Z",
     "start_time": "2019-11-04T15:21:10.142779Z"
    }
   },
   "outputs": [
    {
     "name": "stdout",
     "output_type": "stream",
     "text": [
      "downloading ftp.nhtsa.dot.gov/fars/2000/National/FARS2000NationalCSV.zip\n",
      "   into ..\\data\\FARS2000NationalCSV.zip ...\n",
      "downloading ftp.nhtsa.dot.gov/fars/2001/National/FARS2001NationalCSV.zip\n",
      "   into ..\\data\\FARS2001NationalCSV.zip ...\n",
      "downloading ftp.nhtsa.dot.gov/fars/2002/National/FARS2002NationalCSV.zip\n",
      "   into ..\\data\\FARS2002NationalCSV.zip ...\n",
      "downloading ftp.nhtsa.dot.gov/fars/2003/National/FARS2003NationalCSV.zip\n",
      "   into ..\\data\\FARS2003NationalCSV.zip ...\n",
      "downloading ftp.nhtsa.dot.gov/fars/2004/National/FARS2004NationalCSV.zip\n",
      "   into ..\\data\\FARS2004NationalCSV.zip ...\n",
      "downloading ftp.nhtsa.dot.gov/fars/2005/National/FARS2005NationalCSV.zip\n",
      "   into ..\\data\\FARS2005NationalCSV.zip ...\n",
      "downloading ftp.nhtsa.dot.gov/fars/2006/National/FARS2006NationalCSV.zip\n",
      "   into ..\\data\\FARS2006NationalCSV.zip ...\n",
      "downloading ftp.nhtsa.dot.gov/fars/2007/National/FARS2007NationalCSV.zip\n",
      "   into ..\\data\\FARS2007NationalCSV.zip ...\n",
      "downloading ftp.nhtsa.dot.gov/fars/2008/National/FARS2008NationalCSV.zip\n",
      "   into ..\\data\\FARS2008NationalCSV.zip ...\n",
      "downloading ftp.nhtsa.dot.gov/fars/2009/National/FARS2009NationalCSV.zip\n",
      "   into ..\\data\\FARS2009NationalCSV.zip ...\n",
      "downloading ftp.nhtsa.dot.gov/fars/2010/National/FARS2010NationalCSV.zip\n",
      "   into ..\\data\\FARS2010NationalCSV.zip ...\n",
      "downloading ftp.nhtsa.dot.gov/fars/2011/National/FARS2011NationalCSV.zip\n",
      "   into ..\\data\\FARS2011NationalCSV.zip ...\n",
      "downloading ftp.nhtsa.dot.gov/fars/2012/National/FARS2012NationalCSV.zip\n",
      "   into ..\\data\\FARS2012NationalCSV.zip ...\n",
      "downloading ftp.nhtsa.dot.gov/fars/2013/National/FARS2013NationalCSV.zip\n",
      "   into ..\\data\\FARS2013NationalCSV.zip ...\n",
      "downloading ftp.nhtsa.dot.gov/fars/2014/National/FARS2014NationalCSV.zip\n",
      "   into ..\\data\\FARS2014NationalCSV.zip ...\n",
      "downloading ftp.nhtsa.dot.gov/fars/2015/National/FARS2015NationalCSV.zip\n",
      "   into ..\\data\\FARS2015NationalCSV.zip ...\n",
      "downloading ftp.nhtsa.dot.gov/fars/2016/National/FARS2016NationalCSV.zip\n",
      "   into ..\\data\\FARS2016NationalCSV.zip ...\n",
      "downloading ftp.nhtsa.dot.gov/fars/2017/National/FARS2017NationalCSV.zip\n",
      "   into ..\\data\\FARS2017NationalCSV.zip ...\n",
      "downloading ftp.nhtsa.dot.gov/fars/2018/National/FARS2018NationalCSV.zip\n",
      "   into ..\\data\\FARS2018NationalCSV.zip ...\n"
     ]
    }
   ],
   "source": [
    "for year in range(2000, 2019):\n",
    "\n",
    "    ftp_site = \"ftp.nhtsa.dot.gov\"\n",
    "    ftp_dir  = \"fars/\" + str(year) + \"/National\"\n",
    "    ftp_file = \"FARS\" + str(year) + \"NationalCSV.zip\"\n",
    "\n",
    "    data_file = os.path.join(\"..\", \"data\", ftp_file)\n",
    "    \n",
    "    print(f'downloading {ftp_site}/{ftp_dir}/{ftp_file}')\n",
    "    print(f'   into {data_file} ...')\n",
    "    \n",
    "    ftp = FTP(ftp_site)\n",
    "    \n",
    "    ftp.login()\n",
    "    ftp.cwd(ftp_dir)\n",
    "    filedata = open(data_file, \"wb\")\n",
    "    ftp.retrbinary(\"RETR \" + ftp_file, filedata.write)\n",
    "    filedata.close()\n",
    "    ftp.quit()\n",
    "    \n",
    "    time.sleep(10)"
   ]
  },
  {
   "cell_type": "code",
   "execution_count": 3,
   "metadata": {
    "ExecuteTime": {
     "end_time": "2019-11-04T15:28:24.612461Z",
     "start_time": "2019-11-04T15:28:11.749679Z"
    }
   },
   "outputs": [
    {
     "name": "stdout",
     "output_type": "stream",
     "text": [
      "unzipping ..\\data\\FARS2018NationalCSV.zip\n",
      "   into ..\\data\\fars-2000 ...\n",
      "unzipping ..\\data\\FARS2018NationalCSV.zip\n",
      "   into ..\\data\\fars-2001 ...\n",
      "unzipping ..\\data\\FARS2018NationalCSV.zip\n",
      "   into ..\\data\\fars-2002 ...\n",
      "unzipping ..\\data\\FARS2018NationalCSV.zip\n",
      "   into ..\\data\\fars-2003 ...\n",
      "unzipping ..\\data\\FARS2018NationalCSV.zip\n",
      "   into ..\\data\\fars-2004 ...\n",
      "unzipping ..\\data\\FARS2018NationalCSV.zip\n",
      "   into ..\\data\\fars-2005 ...\n",
      "unzipping ..\\data\\FARS2018NationalCSV.zip\n",
      "   into ..\\data\\fars-2006 ...\n",
      "unzipping ..\\data\\FARS2018NationalCSV.zip\n",
      "   into ..\\data\\fars-2007 ...\n",
      "unzipping ..\\data\\FARS2018NationalCSV.zip\n",
      "   into ..\\data\\fars-2008 ...\n",
      "unzipping ..\\data\\FARS2018NationalCSV.zip\n",
      "   into ..\\data\\fars-2009 ...\n",
      "unzipping ..\\data\\FARS2018NationalCSV.zip\n",
      "   into ..\\data\\fars-2010 ...\n",
      "unzipping ..\\data\\FARS2018NationalCSV.zip\n",
      "   into ..\\data\\fars-2011 ...\n",
      "unzipping ..\\data\\FARS2018NationalCSV.zip\n",
      "   into ..\\data\\fars-2012 ...\n",
      "unzipping ..\\data\\FARS2018NationalCSV.zip\n",
      "   into ..\\data\\fars-2013 ...\n",
      "unzipping ..\\data\\FARS2018NationalCSV.zip\n",
      "   into ..\\data\\fars-2014 ...\n",
      "unzipping ..\\data\\FARS2018NationalCSV.zip\n",
      "   into ..\\data\\fars-2015 ...\n",
      "unzipping ..\\data\\FARS2018NationalCSV.zip\n",
      "   into ..\\data\\fars-2016 ...\n",
      "unzipping ..\\data\\FARS2018NationalCSV.zip\n",
      "   into ..\\data\\fars-2017 ...\n",
      "unzipping ..\\data\\FARS2018NationalCSV.zip\n",
      "   into ..\\data\\fars-2018 ...\n"
     ]
    }
   ],
   "source": [
    "for year in range(2000, 2019):\n",
    "    \n",
    "    data_file = os.path.join(\"..\", \"data\", ftp_file)\n",
    "    data_dir  = os.path.join(\"..\", \"data\", \"fars-\"+ str(year))\n",
    "\n",
    "    print(f'unzipping {data_file}')\n",
    "    print(f'   into {data_dir} ...')\n",
    "    \n",
    "    with zipfile.ZipFile(data_file, \"r\") as zip_ref:\n",
    "        zip_ref.extractall(data_dir)"
   ]
  },
  {
   "cell_type": "code",
   "execution_count": null,
   "metadata": {},
   "outputs": [],
   "source": []
  }
 ],
 "metadata": {
  "kernelspec": {
   "display_name": "Python 3",
   "language": "python",
   "name": "python3"
  },
  "language_info": {
   "codemirror_mode": {
    "name": "ipython",
    "version": 3
   },
   "file_extension": ".py",
   "mimetype": "text/x-python",
   "name": "python",
   "nbconvert_exporter": "python",
   "pygments_lexer": "ipython3",
   "version": "3.7.3"
  },
  "varInspector": {
   "cols": {
    "lenName": 16,
    "lenType": 16,
    "lenVar": 40
   },
   "kernels_config": {
    "python": {
     "delete_cmd_postfix": "",
     "delete_cmd_prefix": "del ",
     "library": "var_list.py",
     "varRefreshCmd": "print(var_dic_list())"
    },
    "r": {
     "delete_cmd_postfix": ") ",
     "delete_cmd_prefix": "rm(",
     "library": "var_list.r",
     "varRefreshCmd": "cat(var_dic_list()) "
    }
   },
   "types_to_exclude": [
    "module",
    "function",
    "builtin_function_or_method",
    "instance",
    "_Feature"
   ],
   "window_display": false
  }
 },
 "nbformat": 4,
 "nbformat_minor": 2
}
